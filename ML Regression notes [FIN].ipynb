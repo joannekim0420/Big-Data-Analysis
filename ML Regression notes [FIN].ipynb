{
 "cells": [
  {
   "cell_type": "markdown",
   "metadata": {},
   "source": [
    "### 회귀식\n",
    "$y = \\beta_0 + \\beta_1x_1 + \\ldots + \\beta_nx_n\n",
    " = \\beta_0 + \\sum_{j=1}^n \\beta_j x_j$\n",
    " \n",
    "벡터표기\n",
    "$x^{m}_{n}$\n",
    ">즉, 위첨자 superscript (j)는 j번째 열\n",
    "아래첨자 subscript (i)는 i번째 행을 의미한다.\n",
    "\n",
    "argmin\n",
    "$\\hat{w} = argmin_{w} (y-wx)^2$\n",
    "오류를 최소화 하는 w 구하기\n",
    "\n",
    "- 비표준화된 회귀식 unstandardized regression equation\n",
    "$$ Y = a + b \\times X $$\n",
    "\n",
    "- 표준화된 standardized regression equation\n",
    "$$ z_y = a + b \\times z_x $$\n",
    "\n",
    "- general linear model (오류가 정규분포를 따를 때)\n",
    "$$ y_i = \\beta_0 + \\beta_1 x_{1i} + ... + \\beta_p x_{pi} + \\epsilon_i $$\n",
    "\n",
    "- GLM(일반화선형모델 generalized linear model) 오류가 정규분포를 따르지 않는 경우"
   ]
  },
  {
   "cell_type": "markdown",
   "metadata": {},
   "source": [
    "#### OLS Ordinary Least Square 오류를 최소화하여 회귀식을 찾는 방법.\n",
    "오류는 $y$실제 - $\\hat{y}$예측 차이의 제곱을 합계낸 값"
   ]
  },
  {
   "cell_type": "code",
   "execution_count": 1,
   "metadata": {},
   "outputs": [],
   "source": [
    "import numpy as np\n",
    "\n",
    "x=np.array([1,2,3,4])\n",
    "y=np.array([6,5,7,10])"
   ]
  },
  {
   "cell_type": "code",
   "execution_count": 2,
   "metadata": {},
   "outputs": [
    {
     "data": {
      "text/plain": [
       "<matplotlib.collections.PathCollection at 0x1da3cbeae48>"
      ]
     },
     "execution_count": 2,
     "metadata": {},
     "output_type": "execute_result"
    },
    {
     "data": {
      "image/png": "[encoded data removed]",
      "text/plain": [
       "<Figure size 432x288 with 1 Axes>"
      ]
     },
     "metadata": {
      "needs_background": "light"
     },
     "output_type": "display_data"
    }
   ],
   "source": [
    "import matplotlib.pyplot as plt\n",
    "\n",
    "fig=plt.figure()\n",
    "ax=fig.add_subplot(111)\n",
    "ax.scatter(x,y)"
   ]
  },
  {
   "cell_type": "markdown",
   "metadata": {},
   "source": [
    "{(1,6),(2,5),(3,7),(4,10)}\n",
    "- x, y 값을 하나씩 입력\n",
    "$6 = \\beta_0 + \\beta_1 \\times 1$\\\n",
    "$5 = \\beta_0 + \\beta_1 \\times 2$\\\n",
    "$7 = \\beta_0 + \\beta_1 \\times 3$\\\n",
    "$10 = \\beta_0 + \\beta_1 \\times 4$\n",
    "\n",
    "- 오류 $(y-yhat)^2$를 최소화\\\n",
    "$(6 - (\\beta_0 + \\beta_1 \\times 1))^2$\\\n",
    "$(5 - (\\beta_0 + \\beta_1 \\times 2))^2$\\\n",
    "$(7 - (\\beta_0 + \\beta_1  \\times 3))^2$\\\n",
    "$(10 - (\\beta_0 + \\beta_1  \\times 4))^2$\n",
    "\n",
    "- 위 식을 모두 더해서 총오류를 구하면:\n",
    "$f=210 + 4\\beta_0^2 + 30\\beta_1^2 + 20\\beta_0\\beta_1 - 56\\beta_0 - 154\\beta_1$\n",
    "\n",
    "- 위를 편미분하면(최소값 구할 떄 이차방정식에서 해를 찾았으니까):\\\n",
    "$\\frac{\\partial f}{\\partial \\beta_0} = 8\\beta_0 + 20\\beta_1 - 56$\\\n",
    "$\\frac{\\partial f}{\\partial \\beta_1} = 20\\beta_0 + 60\\beta_1 - 154$\\\n",
    "\n",
    "- 이를 풀면:\n",
    "$\\beta_0 = 3.5$\\\n",
    "$\\beta_1 = 1.4$\n",
    "\n",
    "=> 각 x 값에 기울기 1.4를 곱하고, y절편 3.5를 더해서 구할 수 있다.\\\n",
    "$yhat=3.5 + 1.4 x$"
   ]
  },
  {
   "cell_type": "code",
   "execution_count": 5,
   "metadata": {},
   "outputs": [
    {
     "data": {
      "text/plain": [
       "'predicted: [4.9 6.3 7.7 9.1]'"
      ]
     },
     "execution_count": 5,
     "metadata": {},
     "output_type": "execute_result"
    }
   ],
   "source": [
    "yhat=x*1.4+3.5\n",
    "f\"predicted: {yhat}\""
   ]
  },
  {
   "cell_type": "code",
   "execution_count": 6,
   "metadata": {},
   "outputs": [
    {
     "data": {
      "text/plain": [
       "'predicted - actual: [-1.1  1.3  0.7 -0.9]'"
      ]
     },
     "execution_count": 6,
     "metadata": {},
     "output_type": "execute_result"
    }
   ],
   "source": [
    "f\"predicted - actual: {yhat-y}\""
   ]
  },
  {
   "cell_type": "code",
   "execution_count": 7,
   "metadata": {},
   "outputs": [
    {
     "data": {
      "text/plain": [
       "'error: 4.199999999999998'"
      ]
     },
     "execution_count": 7,
     "metadata": {},
     "output_type": "execute_result"
    }
   ],
   "source": [
    "f\"error: {np.sum(np.power(yhat-y,2))}\""
   ]
  },
  {
   "cell_type": "markdown",
   "metadata": {},
   "source": [
    "#### python 편미분 라이브러리\\\n",
    "\n",
    "spmpy diff 로 미분 할 수 있다\\\n",
    "Sympy solve()로 풀면 해를 구할 수 있다"
   ]
  },
  {
   "cell_type": "code",
   "execution_count": 8,
   "metadata": {},
   "outputs": [],
   "source": [
    "import sympy as sp"
   ]
  },
  {
   "cell_type": "code",
   "execution_count": 9,
   "metadata": {},
   "outputs": [],
   "source": [
    "b0,b1=sp.symbols('b0 b1')"
   ]
  },
  {
   "cell_type": "code",
   "execution_count": 10,
   "metadata": {},
   "outputs": [],
   "source": [
    "\n",
    "f=210 + 4*b0**2 + 30*b1**2 + 20*b0*b1 - 56*b0 - 154*b1"
   ]
  },
  {
   "cell_type": "code",
   "execution_count": 11,
   "metadata": {},
   "outputs": [],
   "source": [
    "#sp.diff 미분을 하는 함수 -> return 값은 식\n",
    "fdiff_b0=sp.diff(f,b0)\n",
    "fdiff_b1=sp.diff(f,b1)"
   ]
  },
  {
   "cell_type": "code",
   "execution_count": 12,
   "metadata": {},
   "outputs": [
    {
     "name": "stdout",
     "output_type": "stream",
     "text": [
      "fdiff with b0: 8*b0 + 20*b1 - 56\n",
      "fdiff with b1: 20*b0 + 60*b1 - 154\n"
     ]
    }
   ],
   "source": [
    "print (\"fdiff with b0: {}\\nfdiff with b1: {}\".format(fdiff_b0, fdiff_b1))"
   ]
  },
  {
   "cell_type": "code",
   "execution_count": 13,
   "metadata": {},
   "outputs": [
    {
     "name": "stdout",
     "output_type": "stream",
     "text": [
      "exp={b0: 7/2, b1: 7/5}\n"
     ]
    }
   ],
   "source": [
    "exp=sp.solve([fdiff_b0, fdiff_b1],[b0,b1])\n",
    "print(\"exp={0}\".format(exp))"
   ]
  },
  {
   "cell_type": "markdown",
   "metadata": {},
   "source": [
    "### $R^2$\n",
    "\n",
    "회귀분석을 하면서 회귀분석의 오류를 얼마나 설명했는지\\\n",
    "$r^2=\\frac{RSS}{TSS}$\n",
    "- 총오류 TSS (Total Sum of Squared Errors)\n",
    "- 오류의 합계 SSE (Sum of Squared Errors)\n",
    "- 잔여 오류 RSS (Residual Sum of Squared Errors)"
   ]
  },
  {
   "cell_type": "code",
   "execution_count": 14,
   "metadata": {},
   "outputs": [],
   "source": [
    "\n",
    "x=np.arange(0,9)\n",
    "y=np.array([19, 20, 20.5, 21.5, 22, 23, 23, 25.5, 24])"
   ]
  },
  {
   "cell_type": "code",
   "execution_count": 15,
   "metadata": {},
   "outputs": [
    {
     "name": "stdout",
     "output_type": "stream",
     "text": [
      "[[0. 1. 2. 3. 4. 5. 6. 7. 8.]\n",
      " [1. 1. 1. 1. 1. 1. 1. 1. 1.]]\n"
     ]
    }
   ],
   "source": [
    "A=np.array([x, np.ones(9)])\n",
    "print(A)"
   ]
  },
  {
   "cell_type": "code",
   "execution_count": 16,
   "metadata": {},
   "outputs": [
    {
     "name": "stdout",
     "output_type": "stream",
     "text": [
      "w0: 0.7166666666666672\n",
      "w1: 19.188888888888897\n"
     ]
    }
   ],
   "source": [
    "#numpy의 listsq()를 사용하여, 데이터의 회귀식 계수 w0, w1을 계산\n",
    "#rcond=None 기본값을 주지 않는다. 값이 2개 주어지는데 우리는 [0]으로 첫 번째 값만 return\n",
    "w0, w1=np.linalg.lstsq(A.T, y, rcond=None)[0] \n",
    "print (\"w0: {}\\nw1: {}\".format(w0, w1))"
   ]
  },
  {
   "cell_type": "code",
   "execution_count": 17,
   "metadata": {},
   "outputs": [
    {
     "name": "stdout",
     "output_type": "stream",
     "text": [
      "예측: [19.18888889 19.90555556 20.62222222 21.33888889 22.05555556 22.77222222\n",
      " 23.48888889 24.20555556 24.92222222]\n"
     ]
    }
   ],
   "source": [
    "yhat=w0*x+w1\n",
    "print (\"예측: {}\".format(yhat))"
   ]
  },
  {
   "cell_type": "code",
   "execution_count": 18,
   "metadata": {},
   "outputs": [
    {
     "data": {
      "image/png": "[encoded data removed]",
      "text/plain": [
       "<Figure size 432x288 with 1 Axes>"
      ]
     },
     "metadata": {
      "needs_background": "light"
     },
     "output_type": "display_data"
    }
   ],
   "source": [
    "%matplotlib inline\n",
    "import matplotlib.pyplot as plt\n",
    "plt.plot(x,yhat,'r-',x,y,'bo') #red의 실선, blue의 동그라미, 빨간선 예측값\n",
    "plt.show()"
   ]
  },
  {
   "cell_type": "code",
   "execution_count": 19,
   "metadata": {},
   "outputs": [
    {
     "data": {
      "text/plain": [
       "'r_squared: 0.9138385502471171'"
      ]
     },
     "execution_count": 19,
     "metadata": {},
     "output_type": "execute_result"
    }
   ],
   "source": [
    "#R squared 계산\n",
    "RSS = sum((y-yhat)**2)\n",
    "TSS = sum((y-np.mean(y))**2)\n",
    "\n",
    "r_squared = 1 - (float(RSS))/TSS\n",
    "f\"r_squared: {r_squared}\""
   ]
  },
  {
   "cell_type": "markdown",
   "metadata": {},
   "source": [
    "#### adjusted R-squared\n",
    "독립변수의 개수에 따라 과도한 $R^2$를 수정한 값\\\n",
    "$R^2\\space adjusted=1 - \\frac{(1-R^2)(n-1)}{n-k-1}$\n",
    "- n은 데이터 개수\n",
    "- k는 독립변수 개수"
   ]
  },
  {
   "cell_type": "code",
   "execution_count": 22,
   "metadata": {},
   "outputs": [
    {
     "data": {
      "text/plain": [
       "'adjusted_r_squared: 0.8851180669961561'"
      ]
     },
     "execution_count": 22,
     "metadata": {},
     "output_type": "execute_result"
    }
   ],
   "source": [
    "adjusted_r_squared = 1 - (1-r_squared)*(len(y)-1)/(len(y)-A.shape[0]-1)\n",
    "f\"adjusted_r_squared: {adjusted_r_squared}\""
   ]
  },
  {
   "cell_type": "markdown",
   "metadata": {},
   "source": [
    "#### statsmodels R squared"
   ]
  },
  {
   "cell_type": "code",
   "execution_count": 23,
   "metadata": {},
   "outputs": [],
   "source": [
    "import statsmodels.api as sm\n",
    "\n",
    "result = sm.OLS(y, A.T).fit()"
   ]
  },
  {
   "cell_type": "code",
   "execution_count": 24,
   "metadata": {},
   "outputs": [
    {
     "name": "stderr",
     "output_type": "stream",
     "text": [
      "C:\\Users\\joann\\anaconda3\\lib\\site-packages\\scipy\\stats\\stats.py:1535: UserWarning: kurtosistest only valid for n>=20 ... continuing anyway, n=9\n",
      "  \"anyway, n=%i\" % int(n))\n"
     ]
    },
    {
     "data": {
      "text/html": [
       "<table class=\"simpletable\">\n",
       "<caption>OLS Regression Results</caption>\n",
       "<tr>\n",
       "  <th>Dep. Variable:</th>            <td>y</td>        <th>  R-squared:         </th> <td>   0.914</td>\n",
       "</tr>\n",
       "<tr>\n",
       "  <th>Model:</th>                   <td>OLS</td>       <th>  Adj. R-squared:    </th> <td>   0.902</td>\n",
       "</tr>\n",
       "<tr>\n",
       "  <th>Method:</th>             <td>Least Squares</td>  <th>  F-statistic:       </th> <td>   74.24</td>\n",
       "</tr>\n",
       "<tr>\n",
       "  <th>Date:</th>             <td>Sun, 06 Dec 2020</td> <th>  Prob (F-statistic):</th> <td>5.66e-05</td>\n",
       "</tr>\n",
       "<tr>\n",
       "  <th>Time:</th>                 <td>03:25:38</td>     <th>  Log-Likelihood:    </th> <td> -7.6827</td>\n",
       "</tr>\n",
       "<tr>\n",
       "  <th>No. Observations:</th>      <td>     9</td>      <th>  AIC:               </th> <td>   19.37</td>\n",
       "</tr>\n",
       "<tr>\n",
       "  <th>Df Residuals:</th>          <td>     7</td>      <th>  BIC:               </th> <td>   19.76</td>\n",
       "</tr>\n",
       "<tr>\n",
       "  <th>Df Model:</th>              <td>     1</td>      <th>                     </th>     <td> </td>   \n",
       "</tr>\n",
       "<tr>\n",
       "  <th>Covariance Type:</th>      <td>nonrobust</td>    <th>                     </th>     <td> </td>   \n",
       "</tr>\n",
       "</table>\n",
       "<table class=\"simpletable\">\n",
       "<tr>\n",
       "    <td></td>       <th>coef</th>     <th>std err</th>      <th>t</th>      <th>P>|t|</th>  <th>[0.025</th>    <th>0.975]</th>  \n",
       "</tr>\n",
       "<tr>\n",
       "  <th>x1</th>    <td>    0.7167</td> <td>    0.083</td> <td>    8.616</td> <td> 0.000</td> <td>    0.520</td> <td>    0.913</td>\n",
       "</tr>\n",
       "<tr>\n",
       "  <th>const</th> <td>   19.1889</td> <td>    0.396</td> <td>   48.458</td> <td> 0.000</td> <td>   18.253</td> <td>   20.125</td>\n",
       "</tr>\n",
       "</table>\n",
       "<table class=\"simpletable\">\n",
       "<tr>\n",
       "  <th>Omnibus:</th>       <td> 4.624</td> <th>  Durbin-Watson:     </th> <td>   3.078</td>\n",
       "</tr>\n",
       "<tr>\n",
       "  <th>Prob(Omnibus):</th> <td> 0.099</td> <th>  Jarque-Bera (JB):  </th> <td>   1.154</td>\n",
       "</tr>\n",
       "<tr>\n",
       "  <th>Skew:</th>          <td> 0.773</td> <th>  Prob(JB):          </th> <td>   0.561</td>\n",
       "</tr>\n",
       "<tr>\n",
       "  <th>Kurtosis:</th>      <td> 3.830</td> <th>  Cond. No.          </th> <td>    9.06</td>\n",
       "</tr>\n",
       "</table><br/><br/>Warnings:<br/>[1] Standard Errors assume that the covariance matrix of the errors is correctly specified."
      ],
      "text/plain": [
       "<class 'statsmodels.iolib.summary.Summary'>\n",
       "\"\"\"\n",
       "                            OLS Regression Results                            \n",
       "==============================================================================\n",
       "Dep. Variable:                      y   R-squared:                       0.914\n",
       "Model:                            OLS   Adj. R-squared:                  0.902\n",
       "Method:                 Least Squares   F-statistic:                     74.24\n",
       "Date:                Sun, 06 Dec 2020   Prob (F-statistic):           5.66e-05\n",
       "Time:                        03:25:38   Log-Likelihood:                -7.6827\n",
       "No. Observations:                   9   AIC:                             19.37\n",
       "Df Residuals:                       7   BIC:                             19.76\n",
       "Df Model:                           1                                         \n",
       "Covariance Type:            nonrobust                                         \n",
       "==============================================================================\n",
       "                 coef    std err          t      P>|t|      [0.025      0.975]\n",
       "------------------------------------------------------------------------------\n",
       "x1             0.7167      0.083      8.616      0.000       0.520       0.913\n",
       "const         19.1889      0.396     48.458      0.000      18.253      20.125\n",
       "==============================================================================\n",
       "Omnibus:                        4.624   Durbin-Watson:                   3.078\n",
       "Prob(Omnibus):                  0.099   Jarque-Bera (JB):                1.154\n",
       "Skew:                           0.773   Prob(JB):                        0.561\n",
       "Kurtosis:                       3.830   Cond. No.                         9.06\n",
       "==============================================================================\n",
       "\n",
       "Warnings:\n",
       "[1] Standard Errors assume that the covariance matrix of the errors is correctly specified.\n",
       "\"\"\""
      ]
     },
     "execution_count": 24,
     "metadata": {},
     "output_type": "execute_result"
    }
   ],
   "source": [
    "result.summary()"
   ]
  },
  {
   "cell_type": "code",
   "execution_count": 25,
   "metadata": {},
   "outputs": [
    {
     "data": {
      "text/plain": [
       "(0.9138385502471168, 0.9015297717109907)"
      ]
     },
     "execution_count": 25,
     "metadata": {},
     "output_type": "execute_result"
    }
   ],
   "source": [
    "result.rsquared, result.rsquared_adj"
   ]
  },
  {
   "cell_type": "markdown",
   "metadata": {},
   "source": [
    "### matrix inverse method\n",
    "\n",
    "$\\hat{w}$ 최소해를 구하는데, 오류는 sum of squared residuals\\\n",
    "$f = e.T \\times e = (y-wx)^T (y-wx) = y^Ty - 2w(x^Ty)^T+w^Tx^Twx$\n",
    "\n",
    "- 위를 미분하면\\\n",
    "$\\frac{\\partial f}{\\partial w} =\n",
    "    0 -2(x^Ty)+2wx^Tx$\n",
    "\n",
    "- 위 미분 값을 0으로 놓고 풀면, \\\n",
    "$-2x^Ty + 2\\hat{w}x^Tx = 0$\n",
    "\n",
    "- 위 식을 정리하면 \\\n",
    "$\\hat{w} = (X^T X) ^{-1} X^T y$"
   ]
  },
  {
   "cell_type": "markdown",
   "metadata": {},
   "source": [
    "$2x_1 - 4x_2 = 8$\\\n",
    "$3x_1 + 6x_2 = 9$"
   ]
  },
  {
   "cell_type": "code",
   "execution_count": 26,
   "metadata": {},
   "outputs": [],
   "source": [
    "import numpy as np\n",
    "\n",
    "y=[8,9]\n",
    "x=[[2,-4],[3,6]]"
   ]
  },
  {
   "cell_type": "code",
   "execution_count": 27,
   "metadata": {},
   "outputs": [],
   "source": [
    "#출력 자릿수를 2자리로 제한\n",
    "np.set_printoptions(precision=2, suppress=True)"
   ]
  },
  {
   "cell_type": "code",
   "execution_count": 28,
   "metadata": {},
   "outputs": [
    {
     "name": "stdout",
     "output_type": "stream",
     "text": [
      "x inv:\n",
      "[[ 0.25  0.17]\n",
      " [-0.12  0.08]]\n"
     ]
    }
   ],
   "source": [
    "#X의 역행렬\n",
    "xI = np.linalg.inv(x) \n",
    "print(\"x inv:\\n{}\".format(xI))"
   ]
  },
  {
   "cell_type": "code",
   "execution_count": 29,
   "metadata": {},
   "outputs": [
    {
     "data": {
      "text/plain": [
       "array([[1., 0.],\n",
       "       [0., 1.]])"
      ]
     },
     "execution_count": 29,
     "metadata": {},
     "output_type": "execute_result"
    }
   ],
   "source": [
    "#identity matrix =단위행렬\n",
    "np.eye(2)"
   ]
  },
  {
   "cell_type": "markdown",
   "metadata": {},
   "source": [
    "- 위 식을 행렬로 나타내면\\\n",
    " $\\beta \\times x = y$\n",
    " \n",
    "- 양변에 $x^{-1}$를 곱하면\\\n",
    "$x^{-1}\\times x\\times \\beta=x^{-1}\\times y$\n",
    "\n",
    "- $x^{-1}\\times x=1$이므로 아래와 같이 $\\beta$를 구할 수 있다.\\\n",
    "$\\beta=x^{-1}\\times y$\n"
   ]
  },
  {
   "cell_type": "code",
   "execution_count": 30,
   "metadata": {},
   "outputs": [
    {
     "name": "stdout",
     "output_type": "stream",
     "text": [
      "3.5 -0.25\n"
     ]
    }
   ],
   "source": [
    "import numpy as np\n",
    "\n",
    "x=np.array([[2,-4],[3,6]])\n",
    "y=np.array([8,9])\n",
    "\n",
    "x1 = np.linalg.inv(x)\n",
    "w1, w2 = np.dot(x1, y)\n",
    "print(w1, w2)"
   ]
  },
  {
   "cell_type": "markdown",
   "metadata": {},
   "source": [
    "#### numpy solve\n",
    "numpy.linalg.solve()는 선형 벡터 식을 풀 수 있다"
   ]
  },
  {
   "cell_type": "code",
   "execution_count": 31,
   "metadata": {},
   "outputs": [
    {
     "data": {
      "text/plain": [
       "array([ 3.5 , -0.25])"
      ]
     },
     "execution_count": 31,
     "metadata": {},
     "output_type": "execute_result"
    }
   ],
   "source": [
    "np.linalg.solve(x,y)"
   ]
  },
  {
   "cell_type": "markdown",
   "metadata": {},
   "source": [
    "####### 새로운 문제"
   ]
  },
  {
   "cell_type": "code",
   "execution_count": 43,
   "metadata": {},
   "outputs": [],
   "source": [
    "import numpy as np\n",
    "\n",
    "x=np.array([1,2,3,4])\n",
    "y=np.array([6,5,7,10])"
   ]
  },
  {
   "cell_type": "code",
   "execution_count": 44,
   "metadata": {},
   "outputs": [
    {
     "name": "stdout",
     "output_type": "stream",
     "text": [
      "[[1. 1.]\n",
      " [2. 1.]\n",
      " [3. 1.]\n",
      " [4. 1.]]\n"
     ]
    }
   ],
   "source": [
    "x[:,np.newaxis]\n",
    "x=np.array([x, np.ones(len(x))])\n",
    "x=x.T\n",
    "print(x)"
   ]
  },
  {
   "cell_type": "code",
   "execution_count": 45,
   "metadata": {},
   "outputs": [
    {
     "data": {
      "text/plain": [
       "(4, 2)"
      ]
     },
     "execution_count": 45,
     "metadata": {},
     "output_type": "execute_result"
    }
   ],
   "source": [
    "x.shape"
   ]
  },
  {
   "cell_type": "markdown",
   "metadata": {},
   "source": [
    "#### singular matrix\n",
    "singlular matrix의 inverse()는 할 수 없다.\n",
    " $\\frac{1}{ad-bc} \\begin{pmatrix}d &amp; -b\\\\-c &amp; a\\end{pmatrix}$\n",
    " \n",
    " 이때 $ad -bc=0$ 인 경우이다. "
   ]
  },
  {
   "cell_type": "code",
   "execution_count": 46,
   "metadata": {},
   "outputs": [
    {
     "name": "stdout",
     "output_type": "stream",
     "text": [
      "xTx= [[30. 10.]\n",
      " [10.  4.]]\n"
     ]
    }
   ],
   "source": [
    "#np.dot(x,X.T) -> singular martix\n",
    "\n",
    "#x와 x.T 순서 바꿔서 계산\n",
    "xTx=np.dot(x.T,x)\n",
    "print(\"xTx=\",xTx)"
   ]
  },
  {
   "cell_type": "markdown",
   "metadata": {},
   "source": [
    "##### $(X^T X) ^{-1}$ 계산"
   ]
  },
  {
   "cell_type": "code",
   "execution_count": 48,
   "metadata": {},
   "outputs": [
    {
     "name": "stdout",
     "output_type": "stream",
     "text": [
      "xTxI= [[ 0.2 -0.5]\n",
      " [-0.5  1.5]]\n"
     ]
    }
   ],
   "source": [
    "xTxI=np.linalg.inv(xTx)\n",
    "print(\"xTxI=\",xTxI)"
   ]
  },
  {
   "cell_type": "markdown",
   "metadata": {},
   "source": [
    "##### $X^T y$ 계산"
   ]
  },
  {
   "cell_type": "code",
   "execution_count": 49,
   "metadata": {},
   "outputs": [
    {
     "name": "stdout",
     "output_type": "stream",
     "text": [
      "xTyT= [77. 28.]\n"
     ]
    }
   ],
   "source": [
    "xTyT=np.dot(x.T,y)\n",
    "print(\"xTyT=\",xTyT)"
   ]
  },
  {
   "cell_type": "markdown",
   "metadata": {},
   "source": [
    "##### 전체 $(X^T X) ^{-1} X^T y$ 계산"
   ]
  },
  {
   "cell_type": "code",
   "execution_count": 50,
   "metadata": {},
   "outputs": [
    {
     "name": "stdout",
     "output_type": "stream",
     "text": [
      "weights= [1.4 3.5]\n"
     ]
    }
   ],
   "source": [
    "print(\"weights=\",np.dot(xTxI,xTyT))"
   ]
  },
  {
   "cell_type": "markdown",
   "metadata": {},
   "source": [
    "#### 위의 여러번의 과정을 한 줄로 계산"
   ]
  },
  {
   "cell_type": "code",
   "execution_count": 52,
   "metadata": {},
   "outputs": [
    {
     "name": "stdout",
     "output_type": "stream",
     "text": [
      "1.4000000000000021 3.499999999999993\n"
     ]
    }
   ],
   "source": [
    "w1, w0=np.dot(np.linalg.inv(np.dot(x.T, x)), np.dot(x.T, y))\n",
    "print(w1, w0)"
   ]
  },
  {
   "cell_type": "markdown",
   "metadata": {},
   "source": [
    "### numpy 최소자승법\n",
    "위의 같은 데이터를 least square 로 구하기"
   ]
  },
  {
   "cell_type": "code",
   "execution_count": 53,
   "metadata": {},
   "outputs": [
    {
     "name": "stdout",
     "output_type": "stream",
     "text": [
      "numpy lstsq:  (array([1.4, 3.5]), array([4.2]), 2, array([5.78, 0.77]))\n"
     ]
    }
   ],
   "source": [
    "np.warnings.filterwarnings('ignore')   #suppress numpy warnings\n",
    "print(\"numpy lstsq: \",np.linalg.lstsq(x,y))"
   ]
  },
  {
   "cell_type": "code",
   "execution_count": 54,
   "metadata": {},
   "outputs": [
    {
     "name": "stdout",
     "output_type": "stream",
     "text": [
      "w1= 1.4000000000000006 \n",
      "w0= 3.499999999999998\n"
     ]
    }
   ],
   "source": [
    "np.set_printoptions(formatter={'float': '{: 0.2f}'.format})\n",
    "w1,w0=np.linalg.lstsq(x,y)[0]\n",
    "print(\"w1=\",w1,\"\\nw0=\",w0)"
   ]
  },
  {
   "cell_type": "code",
   "execution_count": 55,
   "metadata": {},
   "outputs": [
    {
     "data": {
      "text/plain": [
       "[<matplotlib.lines.Line2D at 0x1da43c3dec8>]"
      ]
     },
     "execution_count": 55,
     "metadata": {},
     "output_type": "execute_result"
    },
    {
     "data": {
      "image/png": "[encoded data removed]",
      "text/plain": [
       "<Figure size 432x288 with 1 Axes>"
      ]
     },
     "metadata": {
      "needs_background": "light"
     },
     "output_type": "display_data"
    }
   ],
   "source": [
    "%matplotlib inline\n",
    "import matplotlib.pyplot as plt\n",
    "import numpy as np\n",
    "\n",
    "# (1) data ready\n",
    "x=np.array([1,2,3,4])\n",
    "y=np.array([6,5,7,10])\n",
    "_x=np.array([x,np.ones(len(x))]) # shape (2,4)\n",
    "# (2) change (2,4) -> (4,2), so x0:1,2,3,4 x1:1,1,1,1\n",
    "# w0 for x0, w1 for x1\n",
    "_x=_x.T # shape (4,2)\n",
    "# (3) compute w\n",
    "#w1,w0=np.linalg.lstsq(_x, y, rcond=None)[0]\n",
    "w1, w0=np.dot(np.linalg.inv(np.dot(_x.T, _x)), np.dot(_x.T, y)) #1.4 3.5\n",
    "# (4) predicted\n",
    "yhat=w0+w1*x\n",
    "# (5) graph\n",
    "fig=plt.figure()\n",
    "ax=fig.add_subplot(111)\n",
    "ax.scatter(x,y)\n",
    "ax.plot(x,yhat)"
   ]
  },
  {
   "cell_type": "code",
   "execution_count": null,
   "metadata": {},
   "outputs": [],
   "source": []
  }
 ],
 "metadata": {
  "kernelspec": {
   "display_name": "Python 3",
   "language": "python",
   "name": "python3"
  },
  "language_info": {
   "codemirror_mode": {
    "name": "ipython",
    "version": 3
   },
   "file_extension": ".py",
   "mimetype": "text/x-python",
   "name": "python",
   "nbconvert_exporter": "python",
   "pygments_lexer": "ipython3",
   "version": "3.7.6"
  }
 },
 "nbformat": 4,
 "nbformat_minor": 4
}
