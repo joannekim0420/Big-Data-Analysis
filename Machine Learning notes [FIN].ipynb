{
 "cells": [
  {
   "cell_type": "markdown",
   "metadata": {},
   "source": [
    "## Machine Learning\n",
    "통계 기법이나 알고리즘을 통해 데이터에 숨겨진 패턴을 찾아내거나 분류, 예측하는 것. 사람이 처리하기 어려운 대규모 데이터 처리, 사람이 발견하지 못한 패턴 발견, 사람이 저지르기 쉬운 bias 줄일 수 있음\n",
    "\n",
    "- Supervised Learning\n",
    "입력에 대한 결과 값이 있는 경우.\\\n",
    ">Naive Bayesian, Decision Tree, 회귀분석, Ensembles 등 분류모델\n",
    "\n",
    "- Unsupervised Learning\n",
    "출력 값이 주어지지 않은 상태에서 기계 스스로 숨겨진 패턴을 찾아 특징이 유사한 그룹끼리 clustering. \n",
    ">KMeans, LDA, SVD, PCA 등의 모델\n",
    "\n",
    "- Reinforcement Learning \n",
    "보상을 통해 학습해 나간다. ex) 알파고\n",
    ">Marcov decision process"
   ]
  },
  {
   "cell_type": "markdown",
   "metadata": {},
   "source": [
    "### 기계학습 모델들\n",
    "#### 회귀분석\n",
    "입력변수를 선형 또는 비선형으로 모델링해서 목표변수를 예측하는 경우에 사용\n",
    "\n",
    "#### 군집화\n",
    "군집의 갯수k를 정하고, 각 데이터 항목을 중심점과 얼마나 멀리 있는지 계산하여, 클러스터에 할당하고, 계속 새로운 중심점을 갱신하여 군집의 오류가 최소화할 때까지 계속\n",
    "\n",
    "#### 추천 \n",
    "인기 많은 영화가 아닌 나에게 맞는 영화 추천, 취향이 유사한 사람들이 좋아하는 제품 추천\n",
    "\n",
    "#### Logistic Regression\n",
    "지도 학습, 이진분류 문제(강제 이진 분류), spark는 이진분류만 가능\\\n",
    "logistic(sigmoid) 함수 사용\n",
    "\n",
    ">$log\\frac{p}{1-p} \\in \\{1, 0\\}$\n",
    "\n",
    "#### Support Vector Machine (SVM)\n",
    " 데이터를 분류하는 모델로서, 데이터가 분포된 공간에서 서로 구분하기 위한 경계 가운데, 가장 큰 폭을 가진 경계를 찾는 알고리즘\\\n",
    "선형 분류, 비선형 분류 둘 다 가능. \n",
    "\n",
    "#### Decision Tree\n",
    "입력변수를 바탕으로 목표변수를 예측하는 모델, 지도 학습. 데이터 집합을 분할하면서 얼마나 적합한지 측정할 경우 아래 기준을 사용한다.\\\n",
    "Gini impurity entropy로 불확실성을 계산.즉 50-50은 가장 불확실하다,\n",
    ">$$\n",
    "\\begin{align}\n",
    "H(S) &amp;= - \\sum_{i=1}^{n}\\ p_i\\ log_2\\ p_i\\\\\n",
    "     &amp;= - p_1 log_2\\ p_1 - p_2 log_2\\ p_2\\ \\ldots\n",
    "\\end{align}$$\n",
    "정보이득을 계산해서, 가장 높은 속성을 선정하여 분기하게 된다.\n",
    ">$$\n",
    "IG(A,S) = H(S) - \\sum_{i=1}^m\\ p(i)\\ H(i)\n",
    "$$\n",
    "\n",
    "#### 나이즈 베이즈 분류\n",
    "Naive Bayesian은 변수들 사이의 독립을 가정하는 베이즈 정리 Bayes' theorem에 따른 분류 지도학습 방법. 조건부 확률 모델. "
   ]
  },
  {
   "cell_type": "code",
   "execution_count": null,
   "metadata": {},
   "outputs": [],
   "source": []
  }
 ],
 "metadata": {
  "kernelspec": {
   "display_name": "Python 3",
   "language": "python",
   "name": "python3"
  },
  "language_info": {
   "codemirror_mode": {
    "name": "ipython",
    "version": 3
   },
   "file_extension": ".py",
   "mimetype": "text/x-python",
   "name": "python",
   "nbconvert_exporter": "python",
   "pygments_lexer": "ipython3",
   "version": "3.7.6"
  }
 },
 "nbformat": 4,
 "nbformat_minor": 4
}
