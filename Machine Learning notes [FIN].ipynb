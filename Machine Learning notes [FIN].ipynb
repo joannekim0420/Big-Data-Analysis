{
 "cells": [
  {
   "cell_type": "markdown",
   "metadata": {},
   "source": [
    "## Machine Learning\n",
    "통계 기법이나 알고리즘을 통해 데이터에 숨겨진 패턴을 찾아내거나 분류, 예측하는 것. 사람이 처리하기 어려운 대규모 데이터 처리, 사람이 발견하지 못한 패턴 발견, 사람이 저지르기 쉬운 bias 줄일 수 있음\n",
    "\n",
    "- Supervised Learning\n",
    "입력에 대한 결과 값이 있는 경우.\\\n",
    ">Naive Bayesian, Decision Tree, 회귀분석, Ensembles 등 분류모델\n",
    "\n",
    "- Unsupervised Learning\n",
    "출력 값이 주어지지 않은 상태에서 기계 스스로 숨겨진 패턴을 찾아 특징이 유사한 그룹끼리 clustering. \n",
    ">KMeans, LDA, SVD, PCA 등의 모델\n",
    "\n",
    "- Reinforcement Learning \n",
    "보상을 통해 학습해 나간다. ex) 알파고\n",
    ">Marcov decision process"
   ]
  },
  {
   "cell_type": "markdown",
   "metadata": {},
   "source": [
    "### 기계학습 모델들\n",
    "- #### Regression Analysis\n",
    "입력변수를 선형 또는 비선형으로 모델링해서 목표변수를 예측하는 경우에 사용\n",
    "\n",
    "- #### Clustering\n",
    "군집의 갯수k를 정하고, 각 데이터 항목을 중심점과 얼마나 멀리 있는지 계산하여, 클러스터에 할당하고, 계속 새로운 중심점을 갱신하여 군집의 오류가 최소화할 때까지 계속\n",
    "\n",
    "- #### 추천 \n",
    "인기 많은 영화가 아닌 나에게 맞는 영화 추천, 취향이 유사한 사람들이 좋아하는 제품 추천\n",
    "\n",
    "- #### Logistic Regression\n",
    "지도 학습, 이진분류 문제(강제 이진 분류), spark는 이진분류만 가능\\\n",
    "logistic(sigmoid) 함수 사용\n",
    "\n",
    ">$log\\frac{p}{1-p} \\in \\{1, 0\\}$\n",
    "\n",
    "- #### Support Vector Machine (SVM)\n",
    " 데이터를 분류하는 모델로서, 데이터가 분포된 공간에서 서로 구분하기 위한 경계 가운데, 가장 큰 폭을 가진 경계를 찾는 알고리즘\\\n",
    "선형 분류, 비선형 분류 둘 다 가능. \n",
    "\n",
    "- #### Decision Tree\n",
    "입력변수를 바탕으로 목표변수를 예측하는 모델, 지도 학습. 데이터 집합을 분할하면서 얼마나 적합한지 측정할 경우 아래 기준을 사용한다.\\\n",
    "Gini impurity entropy로 불확실성을 계산.즉 50-50은 가장 불확실하다,\n",
    ">$$\n",
    "\\begin{align}\n",
    "H(S) &amp;= - \\sum_{i=1}^{n}\\ p_i\\ log_2\\ p_i\\\\\n",
    "     &amp;= - p_1 log_2\\ p_1 - p_2 log_2\\ p_2\\ \\ldots\n",
    "\\end{align}$$\n",
    "정보이득을 계산해서, 가장 높은 속성을 선정하여 분기하게 된다.\n",
    ">$$\n",
    "IG(A,S) = H(S) - \\sum_{i=1}^m\\ p(i)\\ H(i)\n",
    "$$\n",
    "\n",
    "- #### 나이즈 베이즈 분류\n",
    "Naive Bayesian은 변수들 사이의 독립을 가정하는 베이즈 정리 Bayes' theorem에 따른 분류 지도학습 방법. 조건부 확률 모델. "
   ]
  },
  {
   "cell_type": "markdown",
   "metadata": {},
   "source": [
    "### CLustering\n",
    "\n",
    "Unsupervised Learning, Decision Tree, kNN.\n",
    "- Partitioning Clustering \n",
    "> k-means \n",
    "\n",
    "- Hierarchical clustering\n",
    "\n",
    "- Density-based Clustering\n",
    ">DBSCAN"
   ]
  },
  {
   "cell_type": "markdown",
   "metadata": {},
   "source": [
    "### K-means\n",
    "\n",
    "군집의 갯수 k를 정하고, 중심점 $C_k$을 정한다. 이 중심점은 반복하면서 갱신하게 된다.\n",
    "- 반복:\n",
    ">- 할당 단계: 각 데이터 항목을 중심점과 얼마나 멀리 있는지 계산하여, 클러스터에 할당\\\n",
    "모든 데이터 ${x_1,x_2,\\cdots,x_n}\\in D$에 대해 반복\\\n",
    "각 데이터 $x_n$에서 각 클러스터 $C_k$ 거리를 계산 $dist(x_n,m_k)=\\|x_n-m_k\\|$ ($m_k$는 $C_k$ 평균을 말한다)\\\n",
    "$x_n$을 가장 가까운 클러스터 $C_k$에 할당\\\n",
    ">- 갱신 단계:\n",
    "현재 클러스터에 할당된 데이터로의 평균을 계산하여 새로운 클러스터 $C_k$의 중심점$m_k$를 설정\\\n",
    ">- 종료 단계:\n",
    "갱신이 더 이상 없으면 종료"
   ]
  },
  {
   "cell_type": "code",
   "execution_count": 1,
   "metadata": {},
   "outputs": [],
   "source": [
    "#data\n",
    "import numpy as np\n",
    "\n",
    "x = np.array([[2,5],[3,6],[2,4],[5,7],[7,2],[8,3],[9,4],[8,4],[7,3]], dtype = float)"
   ]
  },
  {
   "cell_type": "code",
   "execution_count": 2,
   "metadata": {},
   "outputs": [],
   "source": [
    "k = 2\n",
    "centroids = np.array([[2,5],[7,2]], dtype = float)"
   ]
  },
  {
   "cell_type": "code",
   "execution_count": 3,
   "metadata": {},
   "outputs": [],
   "source": [
    "#할당\n",
    "def normDist(x1, x2):\n",
    "    #dist=np.sqrt(sum(np.power(x1 - x2, 2))) #36.406001444695193 #수동계산\n",
    "    dist = np.linalg.norm(x1 - x2) #36.406001444695193 #numpy 이용\n",
    "    return dist"
   ]
  },
  {
   "cell_type": "code",
   "execution_count": 4,
   "metadata": {},
   "outputs": [
    {
     "name": "stdout",
     "output_type": "stream",
     "text": [
      "Distance 0.000 between [2. 5.] and [2. 5.]\n",
      "Distance 5.831 between [7. 2.] and [2. 5.]\n"
     ]
    }
   ],
   "source": [
    "#중심점을 2,5와 7,2로 설정하여 첫 번째 x[0]와의 거리 구하기\n",
    "\n",
    "for j in range(k):\n",
    "    # distance from centroids[j] to x[0]\n",
    "    distJ0 = normDist(centroids[j], x[0])\n",
    "    print (\"Distance {:.3f} between {} and {}\".format(distJ0, centroids[j], x[0]))"
   ]
  },
  {
   "cell_type": "code",
   "execution_count": 5,
   "metadata": {},
   "outputs": [
    {
     "name": "stdout",
     "output_type": "stream",
     "text": [
      "Distance 0.000 between [2. 5.] and [2. 5.]\n",
      "Distance 5.831 between [7. 2.] and [2. 5.]\n",
      ".....Assigning [2. 5.] to 0th centroid by 0.000\n"
     ]
    }
   ],
   "source": [
    "#sawp \n",
    "\n",
    "minDist = np.inf #무한대\n",
    "for j in range(k): #중심점에 대해서 반복\n",
    "    # distance from centroids[j] to x[0]\n",
    "    distJ0 = normDist(centroids[j], x[0])\n",
    "    print (\"Distance {:.3f} between {} and {}\".format(distJ0, centroids[j], x[0]))\n",
    "    # pick the closest centroid\n",
    "    if distJ0 < minDist:\n",
    "        minDist = distJ0\n",
    "        minIndex = j\n",
    "print (\".....Assigning {} to {}th centroid by {:.3f}\".format(x[0], minIndex, minDist))"
   ]
  },
  {
   "cell_type": "code",
   "execution_count": 6,
   "metadata": {},
   "outputs": [
    {
     "name": "stdout",
     "output_type": "stream",
     "text": [
      "[[0. 0.]\n",
      " [0. 0.]\n",
      " [0. 0.]\n",
      " [0. 0.]\n",
      " [0. 0.]\n",
      " [0. 0.]\n",
      " [0. 0.]\n",
      " [0. 0.]\n",
      " [0. 0.]]\n"
     ]
    }
   ],
   "source": [
    "#저장소\n",
    "clusterAssigned = np.zeros(shape = (x.shape[0],2), dtype = float)\n",
    "print (clusterAssigned)"
   ]
  },
  {
   "cell_type": "code",
   "execution_count": 7,
   "metadata": {},
   "outputs": [
    {
     "name": "stdout",
     "output_type": "stream",
     "text": [
      ".....Assigning [2. 5.] to 0th centroid by 0.000\n",
      ".....Assigning [3. 6.] to 0th centroid by 1.414\n",
      ".....Assigning [2. 4.] to 0th centroid by 1.000\n",
      ".....Assigning [5. 7.] to 0th centroid by 3.606\n",
      ".....Assigning [7. 2.] to 1th centroid by 0.000\n",
      ".....Assigning [8. 3.] to 1th centroid by 1.414\n",
      ".....Assigning [9. 4.] to 1th centroid by 2.828\n",
      ".....Assigning [8. 4.] to 1th centroid by 2.236\n",
      ".....Assigning [7. 3.] to 1th centroid by 1.000\n"
     ]
    }
   ],
   "source": [
    "row, c = x.shape\n",
    "for i in range(row):\n",
    "    minDist = np.inf   # arbitray max\n",
    "    minIndex = -1      # arbitray index\n",
    "    for j in range(k):\n",
    "        # distance from centroids[j] to x[i]\n",
    "        distJI = normDist(centroids[j], x[i])\n",
    "        # print (\"Distance {:.3f} between {} and {}\".format(distJI, centroids[j], x[i]))\n",
    "        # pick the closest centroid\n",
    "        if distJI < minDist:\n",
    "            minDist = distJI\n",
    "            minIndex = j\n",
    "    print (\".....Assigning {} to {}th centroid by {:.3f}\".format(x[i], minIndex, minDist))\n",
    "    clusterAssigned[i] = [minIndex, minDist]   #-----changed"
   ]
  },
  {
   "cell_type": "code",
   "execution_count": 8,
   "metadata": {},
   "outputs": [
    {
     "name": "stdout",
     "output_type": "stream",
     "text": [
      ".....Assigned clusters: \n",
      "[[0.         0.        ]\n",
      " [0.         1.41421356]\n",
      " [0.         1.        ]\n",
      " [0.         3.60555128]\n",
      " [1.         0.        ]\n",
      " [1.         1.41421356]\n",
      " [1.         2.82842712]\n",
      " [1.         2.23606798]\n",
      " [1.         1.        ]]\n"
     ]
    }
   ],
   "source": [
    "print (\".....Assigned clusters: \\n{}\".format(clusterAssigned))\n",
    "#(소속집단index, 거리 )"
   ]
  },
  {
   "cell_type": "code",
   "execution_count": 9,
   "metadata": {},
   "outputs": [
    {
     "data": {
      "text/plain": [
       "array([[7., 2.],\n",
       "       [8., 3.],\n",
       "       [9., 4.],\n",
       "       [8., 4.],\n",
       "       [7., 3.]])"
      ]
     },
     "execution_count": 9,
     "metadata": {},
     "output_type": "execute_result"
    }
   ],
   "source": [
    "#중심점 갱신\n",
    "\n",
    "clusterAssigned[:,0] #집단index\n",
    "x[clusterAssigned[:,0]==0] #=>첫 번째 집단에 속한 점들\n",
    "x[clusterAssigned[:,0]==1] #=>두 번째 집단에 속한 점들"
   ]
  },
  {
   "cell_type": "code",
   "execution_count": 11,
   "metadata": {},
   "outputs": [
    {
     "name": "stdout",
     "output_type": "stream",
     "text": [
      "Centroids updated: \n",
      " [[3.  5.5]\n",
      " [7.8 3.2]]\n"
     ]
    }
   ],
   "source": [
    "_centroids=np.zeros(shape=(k,x.shape[1]), dtype=float)\n",
    "\n",
    "for cent in range(k): #각 집단에 대해서 중심점 ㄱㅖ산\n",
    "    _centroids[cent] = np.mean(x[clusterAssigned[:,0]==cent],axis=0)\n",
    "print (\"Centroids updated: \\n\", _centroids)"
   ]
  },
  {
   "cell_type": "code",
   "execution_count": 14,
   "metadata": {},
   "outputs": [
    {
     "name": "stdout",
     "output_type": "stream",
     "text": [
      "False\n",
      "False\n"
     ]
    }
   ],
   "source": [
    "#종료\n",
    "\n",
    "comparison = np.equal(centroids, _centroids)\n",
    "print(comparison.all()) #중심점이 갱신 되냐고 묻는건데, \n",
    "#갱신이 안 된 경우에 True 값 나옴\n",
    "\n",
    "#np.isclose()는 tolerence를 어느 정도 허용하면서 동일한지 비교\n",
    "comparison = np.isclose(centroids, _centroids)\n",
    "print(comparison.all())"
   ]
  },
  {
   "cell_type": "code",
   "execution_count": 15,
   "metadata": {},
   "outputs": [
    {
     "data": {
      "text/plain": [
       "<matplotlib.collections.PathCollection at 0x1db033bff08>"
      ]
     },
     "execution_count": 15,
     "metadata": {},
     "output_type": "execute_result"
    },
    {
     "data": {
      "image/png": "[encoded data removed]",
      "text/plain": [
       "<Figure size 432x288 with 1 Axes>"
      ]
     },
     "metadata": {
      "needs_background": "light"
     },
     "output_type": "display_data"
    }
   ],
   "source": [
    "#그래프 표시\n",
    "%matplotlib inline\n",
    "import matplotlib.pyplot as plt\n",
    "\n",
    "plt.scatter(x[:,0],x[:,1],color='blue')\n",
    "plt.scatter(centroids[:,0],centroids[:,1],color='red')"
   ]
  },
  {
   "cell_type": "markdown",
   "metadata": {},
   "source": [
    "#### k-mean python 함수로"
   ]
  },
  {
   "cell_type": "code",
   "execution_count": 16,
   "metadata": {},
   "outputs": [],
   "source": [
    "def normDist(x1, x2):\n",
    "    #dist=np.sqrt(sum(np.power(x1 - x2, 2))) #36.406001444695193\n",
    "    dist = np.linalg.norm(x1 - x2) #36.406001444695193\n",
    "    return dist\n",
    "\n",
    "\n",
    "def cluster(x, k, centroids):\n",
    "    row, col = x.shape\n",
    "    clusterAssigned = np.zeros(shape=(row, k), dtype=float)\n",
    "    # print (clusterAssigned)\n",
    "    clusterUpdated=True\n",
    "    iter = 1\n",
    "    while(clusterUpdated):\n",
    "        print (\"\\n\\n====== Iteration {} ======\".format(iter))\n",
    "        # STEP 1: assign to closer cluster\n",
    "        for i in range(row):\n",
    "            minDist = np.inf   # set arbitray max to minDist\n",
    "            minIndex = -1      # set arbitray index to minIndex\n",
    "            # compute distance and assign to closer cluster\n",
    "            for j in range(k):\n",
    "                # distance from centroids[j] to x[0]\n",
    "                distJI = normDist(centroids[j], x[i])\n",
    "                # print (\"Distance {:.3f} between {} and {}\".format(distJI, centroids[j], x[i]))\n",
    "                # pick the closest centroid\n",
    "                if distJI < minDist:\n",
    "                    minDist = distJI\n",
    "                    minIndex = j\n",
    "            print (\".....Assigning {} to {}th centroid by {:.3f}\".format(x[i], minIndex, minDist))\n",
    "            clusterAssigned[i] = [minIndex, minDist]   #-----changed\n",
    "        print (\"\\n.....Assigned clusters: \\n {}\".format(clusterAssigned))\n",
    "        # STEP 2: update centroids\n",
    "        _centroids=np.zeros(shape = (k, x.shape[1]), dtype=float)\n",
    "        for cent in range(k):\n",
    "            # read data by index and average them\n",
    "            _centroids[cent] = np.mean(x[clusterAssigned[:,0]==cent],axis=0)\n",
    "        # print (\"Centroids updated: \\n\", _centroids)\n",
    "        # STEP 3: see if centroids is updated. STOP if NOT updated\n",
    "        comparison = np.equal(centroids, _centroids) # np.isclose() in case some tolerence is required\n",
    "        if(comparison.all() == True):\n",
    "            print (\"\\n.....NOT Updating Centroids\\n {} => \\n{}\".format(centroids, _centroids))\n",
    "            clusterUpdated = False\n",
    "            return centroids, clusterAssigned\n",
    "        else:\n",
    "            print (\"\\n.....Updating Centroids\\n {} => \\n{}\".format(centroids, _centroids))\n",
    "            centroids = _centroids\n",
    "            iter += 1\n",
    "            \n",
    "def draw(x, centroids):\n",
    "    import matplotlib.pyplot as plt\n",
    "    #plt.subplot(5,2,iter)\n",
    "    plt.scatter(x[:,0], x[:,1], color='blue')\n",
    "    plt.scatter(centroids[:,0], centroids[:,1], color='red')\n",
    "    "
   ]
  },
  {
   "cell_type": "code",
   "execution_count": 17,
   "metadata": {},
   "outputs": [
    {
     "name": "stdout",
     "output_type": "stream",
     "text": [
      "\n",
      "\n",
      "====== Iteration 1 ======\n",
      ".....Assigning [2. 5.] to 0th centroid by 0.000\n",
      ".....Assigning [3. 6.] to 0th centroid by 1.414\n",
      ".....Assigning [2. 4.] to 0th centroid by 1.000\n",
      ".....Assigning [5. 7.] to 0th centroid by 3.606\n",
      ".....Assigning [7. 2.] to 1th centroid by 0.000\n",
      ".....Assigning [8. 3.] to 1th centroid by 1.414\n",
      ".....Assigning [9. 4.] to 1th centroid by 2.828\n",
      ".....Assigning [8. 4.] to 1th centroid by 2.236\n",
      ".....Assigning [7. 3.] to 1th centroid by 1.000\n",
      "\n",
      ".....Assigned clusters: \n",
      " [[0.         0.        ]\n",
      " [0.         1.41421356]\n",
      " [0.         1.        ]\n",
      " [0.         3.60555128]\n",
      " [1.         0.        ]\n",
      " [1.         1.41421356]\n",
      " [1.         2.82842712]\n",
      " [1.         2.23606798]\n",
      " [1.         1.        ]]\n",
      "\n",
      ".....Updating Centroids\n",
      " [[2. 5.]\n",
      " [7. 2.]] => \n",
      "[[3.  5.5]\n",
      " [7.8 3.2]]\n",
      "\n",
      "\n",
      "====== Iteration 2 ======\n",
      ".....Assigning [2. 5.] to 0th centroid by 1.118\n",
      ".....Assigning [3. 6.] to 0th centroid by 0.500\n",
      ".....Assigning [2. 4.] to 0th centroid by 1.803\n",
      ".....Assigning [5. 7.] to 0th centroid by 2.500\n",
      ".....Assigning [7. 2.] to 1th centroid by 1.442\n",
      ".....Assigning [8. 3.] to 1th centroid by 0.283\n",
      ".....Assigning [9. 4.] to 1th centroid by 1.442\n",
      ".....Assigning [8. 4.] to 1th centroid by 0.825\n",
      ".....Assigning [7. 3.] to 1th centroid by 0.825\n",
      "\n",
      ".....Assigned clusters: \n",
      " [[0.         1.11803399]\n",
      " [0.         0.5       ]\n",
      " [0.         1.80277564]\n",
      " [0.         2.5       ]\n",
      " [1.         1.44222051]\n",
      " [1.         0.28284271]\n",
      " [1.         1.44222051]\n",
      " [1.         0.82462113]\n",
      " [1.         0.82462113]]\n",
      "\n",
      ".....NOT Updating Centroids\n",
      " [[3.  5.5]\n",
      " [7.8 3.2]] => \n",
      "[[3.  5.5]\n",
      " [7.8 3.2]]\n"
     ]
    },
    {
     "data": {
      "image/png": "[encoded data removed]",
      "text/plain": [
       "<Figure size 432x288 with 1 Axes>"
      ]
     },
     "metadata": {
      "needs_background": "light"
     },
     "output_type": "display_data"
    }
   ],
   "source": [
    "#함수 이용하여 k-means 돌리기 \n",
    "\n",
    "%matplotlib inline\n",
    "import matplotlib.pyplot as plt\n",
    "import numpy as np\n",
    "\n",
    "x = np.array([[2,5],[3,6],[2,4],[5,7],[7,2],[8,3],[9,4],[8,4],[7,3]], dtype = float)\n",
    "#x = np.array([[1, 2],[1, 4],[1, 0],[4, 2],[4, 4],[4, 0]])\n",
    "k = 2\n",
    "centroids = np.array([[2,5],[7,2]], dtype = float)\n",
    "#centroids = np.array([[1,1],[4,1]], dtype = float)\n",
    "centroids, clusterAssigned = cluster(x, k, centroids)\n",
    "draw(x, centroids)"
   ]
  },
  {
   "cell_type": "code",
   "execution_count": null,
   "metadata": {},
   "outputs": [],
   "source": []
  }
 ],
 "metadata": {
  "kernelspec": {
   "display_name": "Python 3",
   "language": "python",
   "name": "python3"
  },
  "language_info": {
   "codemirror_mode": {
    "name": "ipython",
    "version": 3
   },
   "file_extension": ".py",
   "mimetype": "text/x-python",
   "name": "python",
   "nbconvert_exporter": "python",
   "pygments_lexer": "ipython3",
   "version": "3.7.6"
  }
 },
 "nbformat": 4,
 "nbformat_minor": 4
}
