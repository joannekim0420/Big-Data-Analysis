{
 "cells": [
  {
   "cell_type": "markdown",
   "metadata": {},
   "source": [
    "## Naive Bayesian\n",
    "분류 문제, 베이즈 정리 Bayes' theorem에 따라 확률계산을 하지만, 변인 간에 독립적, 즉 naive한 관계를 가정하고 적용.\\\n",
    "비연속적/연속적, 이진적/다항적, 사전확률\n",
    "\n",
    "- 베이지안 Bayesian 은 확률이란 불확실한 사건에 대한 주관이나 믿은에 따라 확률이 정해진다고 생각한다. 사전확률을 정하고 주어지는 증거에 따라 갱신, 사후확률을 추정한다. 평균 값을 추정을 할 경우, 그 값은 불확실하며 분포에 따라 신뢰구간 내에 존재할 수도 있고 없을 수도 있다. \n",
    "\n",
    "### 베이지안 추론\n",
    "$P(\\theta|D) = \\frac{P(D|\\theta) P(\\theta)}{P(D)}$\n",
    "P(D)는 사후확률을 확률분포로 만들게 하는 정규화 상수, P(D)로 나누어주면 사후확률분포의 합이 1이 되게 한다.\n",
    "\n",
    "$P(\\theta|D) \\propto P(D|\\theta) \\cdot P(\\theta)$\n",
    "즉 사후확률은 ∝ 가능도 × 사전확률로 계산\n",
    "\n",
    "#### 사전 확률\n",
    "어떤 사건이 얼마나 발생할 것인지 아무런 증거도 없는 상황에서 개인적인 믿음.\\\n",
    "사전확률을 모르는 경우, 균등분포를 따른다고 가정. \n",
    "\n",
    "#### 가능도 likelihood\n",
    "독립적: 사건의 발생이 서로 영향이 없다.\n",
    "\n",
    "$ P(x)=\\frac{count(x) + \\alpha}{N + \\alpha \\vert x \\vert}$\n",
    ">count(x) x의 발생건수\n",
    "|x|는 발생가능한 사건의 수\n",
    "$\\alpha$는 조절변수. 0이면 조절이 없게 되고, 1이면 add-one smoothing\n",
    "N은 x의 총발생건수\n",
    "\n",
    "example: 전체 3개 가우넫 3개 모두 스팸 메세지인 경우 \\\n",
    "$ \\frac{3 + 2 }{3 + 2 \\times 2}= \\frac {5}{7}$"
   ]
  },
  {
   "cell_type": "markdown",
   "metadata": {},
   "source": [
    "- 흰공W 이고, B2에서 나왔을 확률  𝑃(𝐴=𝐵2|𝐵=𝑊) 을 계산\n",
    "|      | 흰공W | 검은공B |\n",
    "| ----------- | ----------- | ----------- |\n",
    "| 가방 B1      | 2       | 2 |\n",
    "| 가방 B2   | 1        | 2 |\n",
    "\n",
    "\n",
    "- 조건부확률로 계산하면:\n",
    "\n",
    "$\n",
    "\\begin{align}\n",
    "P(A \\vert B) = \\frac{P(A \\cap B)}{P(B)} = \\frac{P(A) \\times P(B)}{P(B)}\n",
    "\\end{align}\n",
    "$\n",
    "\n",
    "$P(A=B2|B=W) =\\frac{P(B2\\ and\\ W)}{P(W)} = \\frac{1/7}{3/7}=1/3$\n",
    "\n",
    "- 베이지안으로 계산하면:\n",
    "\n",
    "$P(A=B2|B=W)=\\frac{P(W|B2) P(B2)}{P(W)} = \\frac{(1/3)(3/7)}{(3/7)}=1/3$"
   ]
  },
  {
   "cell_type": "code",
   "execution_count": 2,
   "metadata": {},
   "outputs": [],
   "source": [
    "#튜플 리스트\n",
    "import numpy as np\n",
    "_x = np.array([\n",
    "        ('m', 'b', 1),\n",
    "        ('m', 's', 1),\n",
    "        ('g', 'q', 1),\n",
    "        ('h', 's', 1),\n",
    "        ('g', 'q', 1),\n",
    "        ('g', 'q', 0),\n",
    "        ('g', 's', 0),\n",
    "        ('h', 'b', 0),\n",
    "        ('h', 'q', 0),\n",
    "        ('m', 'b', 0)],\n",
    "        dtype=[('A', 'U1'), ('B', 'U1'), ('C', 'i1')\n",
    "])\n",
    "#데이터형 dtype의 'U'는 유니코드 문자열, 뒤 숫자는 자릿수를 의미"
   ]
  },
  {
   "cell_type": "code",
   "execution_count": 3,
   "metadata": {},
   "outputs": [
    {
     "name": "stdout",
     "output_type": "stream",
     "text": [
      "[('m', 'b', 1) ('m', 's', 1) ('g', 'q', 1) ('h', 's', 1) ('g', 'q', 1)\n",
      " ('g', 'q', 0) ('g', 's', 0) ('h', 'b', 0) ('h', 'q', 0) ('m', 'b', 0)]\n"
     ]
    }
   ],
   "source": [
    "print(_x)"
   ]
  },
  {
   "cell_type": "code",
   "execution_count": 5,
   "metadata": {},
   "outputs": [
    {
     "name": "stdout",
     "output_type": "stream",
     "text": [
      "['m' 'm' 'g' 'h' 'g' 'g' 'g' 'h' 'h' 'm']\n",
      "[('m', 'b', 1) ('m', 's', 1) ('m', 'b', 0)]\n"
     ]
    }
   ],
   "source": [
    "print(_x['A'])\n",
    "\n",
    "print(_x[_x['A']=='m'])"
   ]
  },
  {
   "cell_type": "markdown",
   "metadata": {},
   "source": [
    "### 문제1: \n",
    "사후확률 post_c1 (c=1)\n",
    "A=m이고 B=q일 경우, Pr(C=1)를 구해보자\n",
    "dictionary 활용"
   ]
  },
  {
   "cell_type": "code",
   "execution_count": 11,
   "metadata": {},
   "outputs": [],
   "source": [
    "#C컬럼에 있는 key 별로 개수를 센다. groupby C\n",
    "\n",
    "import collections\n",
    "prior_kc = collections.defaultdict(int)\n",
    "for item in _x['C']:\n",
    "    prior_kc[item]+=1"
   ]
  },
  {
   "cell_type": "code",
   "execution_count": 12,
   "metadata": {},
   "outputs": [
    {
     "name": "stdout",
     "output_type": "stream",
     "text": [
      "prior key counts computed: defaultdict(<class 'int'>, {1: 5, 0: 5})\n"
     ]
    }
   ],
   "source": [
    "\n",
    "print ('prior key counts computed: {}'.format(prior_kc))"
   ]
  },
  {
   "cell_type": "code",
   "execution_count": 13,
   "metadata": {},
   "outputs": [
    {
     "name": "stdout",
     "output_type": "stream",
     "text": [
      "prior_c: {1: 0.5, 0: 0.5}\n"
     ]
    }
   ],
   "source": [
    "#defaultdict(int)에 저장된 키, 빈도로 부터 확률을 계산한다.\n",
    "\n",
    "allFreq=sum(prior_kc.values())\n",
    "prior_c=dict()\n",
    "for k,v in prior_kc.items():\n",
    "    prior_c[k]=float(v)/allFreq\n",
    "print (\"prior_c: {}\".format(prior_c))"
   ]
  },
  {
   "cell_type": "markdown",
   "metadata": {},
   "source": [
    "a=m 이고 c=1"
   ]
  },
  {
   "cell_type": "code",
   "execution_count": 31,
   "metadata": {},
   "outputs": [
    {
     "name": "stdout",
     "output_type": "stream",
     "text": [
      "kc_a_c1 key counts computed: {} defaultdict(<class 'int'>, {'m': 2, 'g': 2, 'h': 1})\n"
     ]
    }
   ],
   "source": [
    "aLikelihood_a_c1 = _x['A'][_x['C']==1]\n",
    "kc_a_c1 = collections.defaultdict(int)\n",
    "for item in aLikelihood_a_c1:\n",
    "    kc_a_c1[item]+=1\n",
    "print ('kc_a_c1 key counts computed: {}',format(kc_a_c1))"
   ]
  },
  {
   "cell_type": "code",
   "execution_count": 32,
   "metadata": {},
   "outputs": [
    {
     "name": "stdout",
     "output_type": "stream",
     "text": [
      "prior_a_c: {'m': 0.4, 'g': 0.4, 'h': 0.2}\n"
     ]
    }
   ],
   "source": [
    "allFreq=sum(kc_a_c1.values())\n",
    "prior_a_c=dict()\n",
    "for k,v in kc_a_c1.items():\n",
    "    prior_a_c[k]=float(v)/allFreq\n",
    "print (\"prior_a_c: {}\".format(prior_a_c))"
   ]
  },
  {
   "cell_type": "markdown",
   "metadata": {},
   "source": [
    "b=q, c=1"
   ]
  },
  {
   "cell_type": "code",
   "execution_count": 33,
   "metadata": {},
   "outputs": [
    {
     "name": "stdout",
     "output_type": "stream",
     "text": [
      "kc_b_c1 key counts computed: {} defaultdict(<class 'int'>, {'b': 1, 's': 2, 'q': 2})\n"
     ]
    }
   ],
   "source": [
    "aLikelihood_b_c1 = _x['B'][_x['C']==1]\n",
    "kc_b_c1 = collections.defaultdict(int)\n",
    "for item in aLikelihood_b_c1:\n",
    "    kc_b_c1[item]+=1\n",
    "print ('kc_b_c1 key counts computed: {}',format(kc_b_c1))"
   ]
  },
  {
   "cell_type": "code",
   "execution_count": 34,
   "metadata": {},
   "outputs": [
    {
     "name": "stdout",
     "output_type": "stream",
     "text": [
      "prior_b_c: {'b': 0.2, 's': 0.4, 'q': 0.4}\n"
     ]
    }
   ],
   "source": [
    "allFreq=sum(kc_b_c1.values())\n",
    "prior_b_c=dict()\n",
    "for k,v in kc_b_c1.items():\n",
    "    prior_b_c[k]=float(v)/allFreq\n",
    "print (\"prior_b_c: {}\".format(prior_b_c))"
   ]
  },
  {
   "cell_type": "code",
   "execution_count": 35,
   "metadata": {},
   "outputs": [
    {
     "name": "stdout",
     "output_type": "stream",
     "text": [
      "prior_c: {1: 0.5, 0: 0.5}\n",
      "prob_a_c: {'m': 0.4, 'g': 0.4, 'h': 0.2}\n",
      "prob_b_c: {'b': 0.2, 's': 0.4, 'q': 0.4}\n"
     ]
    }
   ],
   "source": [
    "print (\"prior_c: {}\".format(prior_c))\n",
    "print (\"prob_a_c: {}\".format(prior_a_c))\n",
    "print (\"prob_b_c: {}\".format(prior_b_c))"
   ]
  },
  {
   "cell_type": "code",
   "execution_count": 39,
   "metadata": {},
   "outputs": [
    {
     "name": "stdout",
     "output_type": "stream",
     "text": [
      "0.08000000000000002\n"
     ]
    }
   ],
   "source": [
    "post_c1=prior_c[1]*prior_a_c['m']*prior_b_c['q']\n",
    "print(post_c1)"
   ]
  },
  {
   "cell_type": "markdown",
   "metadata": {},
   "source": [
    "### 문제2:\n",
    " A=m이고 B=q일 경우, Pr(C=0)를 구해보자, 개수만을 세어서 계산"
   ]
  },
  {
   "cell_type": "code",
   "execution_count": 40,
   "metadata": {},
   "outputs": [],
   "source": [
    "prior_c0 = np.count_nonzero(_x['C']==0)/_x.shape[0]"
   ]
  },
  {
   "cell_type": "code",
   "execution_count": 41,
   "metadata": {},
   "outputs": [],
   "source": [
    "prob_am_c0=np.count_nonzero(_x['A'][_x['C']==0] == 'm')/np.count_nonzero(_x['C']==0)"
   ]
  },
  {
   "cell_type": "code",
   "execution_count": 42,
   "metadata": {},
   "outputs": [],
   "source": [
    "\n",
    "prob_bq_c0=np.count_nonzero(_x['B'][_x['C']==0] == 'q')/np.count_nonzero(_x['C']==0)"
   ]
  },
  {
   "cell_type": "code",
   "execution_count": 43,
   "metadata": {},
   "outputs": [
    {
     "data": {
      "text/plain": [
       "'post_cf:0.040'"
      ]
     },
     "execution_count": 43,
     "metadata": {},
     "output_type": "execute_result"
    }
   ],
   "source": [
    "post_c0 = prior_c0 * prob_am_c0 * prob_bq_c0\n",
    "f\"post_cf:{post_c0:.3f}\""
   ]
  },
  {
   "cell_type": "markdown",
   "metadata": {},
   "source": [
    "## Binomial Bayesian 이항 베이지안\n",
    "\n",
    "사건이 이진적일 경우에 적용, 발생 빈도가 아니라 발생여부만 측정. \\\n",
    "$p(\\theta|D) = \\frac{p(D|\\theta) p(\\theta)}{p(D)}$\n",
    "\n",
    "사전 확률은 베타분포를 따른다\\\n",
    "사전확률 $P(\\theta)$이 베타분포를 따르면 $\\theta \\sim Beta(\\alpha, \\beta)$, 사후확률도 베타분포를 따르게 된다 $\\theta \\sim Beta(k+\\alpha, n-k+\\beta)$"
   ]
  },
  {
   "cell_type": "code",
   "execution_count": 44,
   "metadata": {},
   "outputs": [
    {
     "data": {
      "text/plain": [
       "<matplotlib.axes._subplots.AxesSubplot at 0x2171fec9448>"
      ]
     },
     "execution_count": 44,
     "metadata": {},
     "output_type": "execute_result"
    },
    {
     "data": {
      "image/png": "[encoded data removed]",
      "text/plain": [
       "<Figure size 432x288 with 1 Axes>"
      ]
     },
     "metadata": {
      "needs_background": "light"
     },
     "output_type": "display_data"
    }
   ],
   "source": [
    "from numpy import random\n",
    "import matplotlib.pyplot as plt\n",
    "import seaborn as sns\n",
    "\n",
    "sns.kdeplot(random.normal(loc=50, scale=5, size=1000), label='normal')\n",
    "#loc= 평균, scale = 표준편차\n",
    "\n",
    "sns.kdeplot(random.binomial(100, p=0.5, size=1000), label='binomial')\n",
    "#100번 시도, 확률=0.5, "
   ]
  },
  {
   "cell_type": "code",
   "execution_count": 45,
   "metadata": {},
   "outputs": [
    {
     "name": "stdout",
     "output_type": "stream",
     "text": [
      "0.015625\n"
     ]
    }
   ],
   "source": [
    "from scipy import special\n",
    "n=6\n",
    "k=0\n",
    "p=0.5\n",
    "print(special.comb(6,k,exact=True)*(p**k)*((1-p)**(n-k)))"
   ]
  },
  {
   "cell_type": "code",
   "execution_count": 47,
   "metadata": {},
   "outputs": [
    {
     "name": "stdout",
     "output_type": "stream",
     "text": [
      "Pr(X = 0 heads)= 0.01562\n",
      "Pr(X = 1 heads)= 0.09375\n",
      "Pr(X = 2 heads)= 0.23438\n",
      "Pr(X = 3 heads)= 0.31250\n",
      "Pr(X = 4 heads)= 0.23438\n",
      "Pr(X = 5 heads)= 0.09375\n",
      "Pr(X = 6 heads)= 0.01562\n"
     ]
    }
   ],
   "source": [
    "for i in range(7):\n",
    "    print (\"Pr(X = {} heads)= {:.5f}\".format(i, special.comb(6, i, exact=True)*(p**i)*( (1-p)**(n-i) ) ) )"
   ]
  },
  {
   "cell_type": "code",
   "execution_count": 48,
   "metadata": {},
   "outputs": [
    {
     "name": "stdout",
     "output_type": "stream",
     "text": [
      "0.01563\n",
      "0.09375\n",
      "0.23438\n",
      "0.31250\n",
      "0.23438\n",
      "0.09375\n",
      "0.01563\n"
     ]
    }
   ],
   "source": [
    "\n",
    "import scipy.stats as stats\n",
    "for i in range(7):\n",
    "    print (\"{:.5f}\".format(stats.binom.pmf(i,6,0.5)))"
   ]
  },
  {
   "cell_type": "markdown",
   "metadata": {},
   "source": [
    "확률의 확률분포를 그려보자.\n",
    "\n",
    "- 앞서 사전확률은 $\\theta \\sim Beta(\\alpha=1, \\beta=1)$\n",
    "- n=100회 던져서 k=70회가 앞면이 나왔다고 하면 가능도는 $\\theta \\sim Beta(\\alpha=70,\\beta=100-70)=Beta(\\alpha=70, \\beta=30)$\n",
    "-앞서 사후확률은 $\\theta \\sim Beta(\\alpha=70+1, \\beta=100-70+1)=Beta(\\alpha=71, \\beta=31)$"
   ]
  },
  {
   "cell_type": "code",
   "execution_count": 50,
   "metadata": {},
   "outputs": [
    {
     "data": {
      "image/png": "[encoded data removed]",
      "text/plain": [
       "<Figure size 432x288 with 1 Axes>"
      ]
     },
     "metadata": {
      "needs_background": "light"
     },
     "output_type": "display_data"
    }
   ],
   "source": [
    "#처음 확률이 다 비슷비슷함.\n",
    "sns.kdeplot(random.beta(a=1, b=1, size=1000), label='beta1') #prior a=1, b=1\n",
    "#70번을 던지니까 분포가 70에 기울임\n",
    "sns.kdeplot(random.beta(a=70, b=30, size=1000), label='beta70') #likelihood a=70, b=100-70 (n=100, k=30)\n",
    "sns.kdeplot(random.beta(a=71, b=31, size=1000), label='beta71') #posterior a=70+1, b=100-70+1\n",
    "plt.show()"
   ]
  },
  {
   "cell_type": "markdown",
   "metadata": {},
   "source": [
    "그림에서 보듯이, 사후확률의 분포는 오른쪽으로 움직이고 폭이 더욱 좁아졌다. 이는 100에서 70회가 앞면이 나왔다는 사실에 더욱 확신이 증가했다는 의미이다. 평균은0.696 표준편차는 0.045, 그러니까 동전은 69.6%는 앞면이 나올 것이, 표준편차는 불과 0.045라는 의미"
   ]
  },
  {
   "cell_type": "code",
   "execution_count": 51,
   "metadata": {},
   "outputs": [
    {
     "data": {
      "text/plain": [
       "'mean: 0.696 std:0.045'"
      ]
     },
     "execution_count": 51,
     "metadata": {},
     "output_type": "execute_result"
    }
   ],
   "source": [
    "import math\n",
    "\n",
    "a=71 #posterior a=70+1, b=100-70+1 (n=100, k=30)\n",
    "b=31\n",
    "mu=a/(a+b)\n",
    "std=math.sqrt(a*b/(math.pow(a+b,2)*(a+b+1)))\n",
    "f\"mean: {mu:.3f} std:{std:.3f}\""
   ]
  },
  {
   "cell_type": "code",
   "execution_count": 52,
   "metadata": {},
   "outputs": [
    {
     "name": "stdout",
     "output_type": "stream",
     "text": [
      "[[1 0 0 0 0]\n",
      " [0 1 0 1 0]\n",
      " [0 0 1 0 0]\n",
      " [0 0 0 1 0]\n",
      " [0 0 1 0 1]\n",
      " [1 1 0 0 0]]\n"
     ]
    }
   ],
   "source": [
    "import numpy as np\n",
    "\n",
    "city_list = [\"Seoul\", \"Jongro\", \"Sydney\", \"Gangnam\", \"NY\"]\n",
    "feature1 = [1, 0, 0, 0, 0]\n",
    "feature2 = [0, 1, 0, 1, 0]\n",
    "feature3 = [0, 0, 1, 0, 0]\n",
    "feature4 = [0, 0, 0, 1, 0]\n",
    "feature5 = [0, 0, 1, 0, 1]\n",
    "feature6 = [1, 1, 0, 0, 0]\n",
    "labels = [1, 1, 0, 1, 0, 1] #한국이면 1, 외국이면 0\n",
    "\n",
    "trainData = np.array([feature1, feature2, feature3, feature4, feature5, feature6])\n",
    "print(trainData)"
   ]
  },
  {
   "cell_type": "code",
   "execution_count": 53,
   "metadata": {},
   "outputs": [
    {
     "data": {
      "text/plain": [
       "array([1, 1, 0, 1, 0, 1])"
      ]
     },
     "execution_count": 53,
     "metadata": {},
     "output_type": "execute_result"
    }
   ],
   "source": [
    "from sklearn.naive_bayes import BernoulliNB\n",
    "\n",
    "clf = BernoulliNB()\n",
    "clf.fit(trainData, labels)\n",
    "clf.predict(trainData)"
   ]
  },
  {
   "cell_type": "code",
   "execution_count": 54,
   "metadata": {},
   "outputs": [
    {
     "data": {
      "text/plain": [
       "array([0, 1, 1])"
      ]
     },
     "execution_count": 54,
     "metadata": {},
     "output_type": "execute_result"
    }
   ],
   "source": [
    "testData_1=np.array([[0, 0, 1, 1, 1], [1, 0, 0, 1, 0], [1, 1, 1, 1, 0]])\n",
    "clf.predict(testData_1)"
   ]
  },
  {
   "cell_type": "code",
   "execution_count": 58,
   "metadata": {},
   "outputs": [
    {
     "name": "stdout",
     "output_type": "stream",
     "text": [
      "1.0\n",
      "1.0\n"
     ]
    }
   ],
   "source": [
    "#testData에 대해 정확성을 측정하려면, label 데이터를 넣어주어야 한다\n",
    "print(clf.score(trainData, labels))\n",
    "print(clf.score(testData_1, [0, 1, 1]))"
   ]
  },
  {
   "cell_type": "code",
   "execution_count": 59,
   "metadata": {},
   "outputs": [
    {
     "data": {
      "text/plain": [
       "array([[0.09194098, 0.90805902],\n",
       "       [0.03264813, 0.96735187],\n",
       "       [0.8200225 , 0.1799775 ],\n",
       "       [0.09194098, 0.90805902],\n",
       "       [0.95795007, 0.04204993],\n",
       "       [0.03264813, 0.96735187]])"
      ]
     },
     "execution_count": 59,
     "metadata": {},
     "output_type": "execute_result"
    }
   ],
   "source": [
    "#predict_proba()는 확률추정치를 출력한다.\n",
    "\n",
    "clf.predict_proba(trainData) #likelihood 를 얼마나 배정했는지"
   ]
  },
  {
   "cell_type": "code",
   "execution_count": 60,
   "metadata": {},
   "outputs": [
    {
     "data": {
      "text/plain": [
       "array([[0.88363636, 0.11636364],\n",
       "       [0.03264813, 0.96735187],\n",
       "       [0.14438503, 0.85561497]])"
      ]
     },
     "execution_count": 60,
     "metadata": {},
     "output_type": "execute_result"
    }
   ],
   "source": [
    "clf.predict_proba(testData_1)"
   ]
  },
  {
   "cell_type": "markdown",
   "metadata": {},
   "source": [
    "## Normal Bayesian 정규분포 베이지안\n",
    "연속적인 값 구분하는 문제, 정규 분포 사용.\n",
    "\n",
    "- 정규분포의 확률밀도함수 (pdf, Probability Dense Function)\n",
    "\n",
    "$\\frac{\\displaystyle 1}{\\displaystyle \\sigma \\sqrt{2\\pi}}\n",
    "e^{-\\frac{\\displaystyle 1}{\\displaystyle 2}(\\frac{\\displaystyle x-\\mu}{\\displaystyle \\sigma})^2}$"
   ]
  },
  {
   "cell_type": "code",
   "execution_count": 61,
   "metadata": {},
   "outputs": [],
   "source": [
    "#튜플로\n",
    "import numpy as np\n",
    "_hwf = np.array([\n",
    "        ('male',6,180,12),\n",
    "        ('male',5.92,190,11),\n",
    "        ('male',5.58,170,12),\n",
    "        ('male',5.92,165,10),\n",
    "        ('female',5,100,6),\n",
    "        ('female',5.5,150,8),\n",
    "        ('female',5.42,130,7),\n",
    "        ('female',5.75,150,9)],\n",
    "        dtype=[('sex', 'U6'), ('height', 'f4'), ('weight', 'i4'), ('foot', 'i4')\n",
    "])"
   ]
  },
  {
   "cell_type": "code",
   "execution_count": 68,
   "metadata": {},
   "outputs": [
    {
     "data": {
      "text/plain": [
       "array([('male', 6.  , 180, 12), ('male', 5.92, 190, 11),\n",
       "       ('male', 5.58, 170, 12), ('male', 5.92, 165, 10),\n",
       "       ('female', 5.  , 100,  6), ('female', 5.5 , 150,  8),\n",
       "       ('female', 5.42, 130,  7), ('female', 5.75, 150,  9)],\n",
       "      dtype=[('sex', '<U6'), ('height', '<f4'), ('weight', '<i4'), ('foot', '<i4')])"
      ]
     },
     "execution_count": 68,
     "metadata": {},
     "output_type": "execute_result"
    }
   ],
   "source": [
    "_hwf"
   ]
  },
  {
   "cell_type": "code",
   "execution_count": 62,
   "metadata": {},
   "outputs": [],
   "source": [
    "#남녀 확률 반반\n",
    "pr_m=0.5\n",
    "pr_f=0.5"
   ]
  },
  {
   "cell_type": "code",
   "execution_count": 63,
   "metadata": {},
   "outputs": [
    {
     "data": {
      "text/html": [
       "<div>\n",
       "<style scoped>\n",
       "    .dataframe tbody tr th:only-of-type {\n",
       "        vertical-align: middle;\n",
       "    }\n",
       "\n",
       "    .dataframe tbody tr th {\n",
       "        vertical-align: top;\n",
       "    }\n",
       "\n",
       "    .dataframe thead th {\n",
       "        text-align: right;\n",
       "    }\n",
       "</style>\n",
       "<table border=\"1\" class=\"dataframe\">\n",
       "  <thead>\n",
       "    <tr style=\"text-align: right;\">\n",
       "      <th></th>\n",
       "      <th>height</th>\n",
       "      <th>weight</th>\n",
       "      <th>foot</th>\n",
       "    </tr>\n",
       "    <tr>\n",
       "      <th>sex</th>\n",
       "      <th></th>\n",
       "      <th></th>\n",
       "      <th></th>\n",
       "    </tr>\n",
       "  </thead>\n",
       "  <tbody>\n",
       "    <tr>\n",
       "      <th>female</th>\n",
       "      <td>5.4175</td>\n",
       "      <td>132.50</td>\n",
       "      <td>7.50</td>\n",
       "    </tr>\n",
       "    <tr>\n",
       "      <th>male</th>\n",
       "      <td>5.8550</td>\n",
       "      <td>176.25</td>\n",
       "      <td>11.25</td>\n",
       "    </tr>\n",
       "  </tbody>\n",
       "</table>\n",
       "</div>"
      ],
      "text/plain": [
       "        height  weight   foot\n",
       "sex                          \n",
       "female  5.4175  132.50   7.50\n",
       "male    5.8550  176.25  11.25"
      ]
     },
     "execution_count": 63,
     "metadata": {},
     "output_type": "execute_result"
    }
   ],
   "source": [
    "import pandas as pd\n",
    "\n",
    "pdf = pd.DataFrame(_hwf)\n",
    "pdf.groupby('sex').mean()"
   ]
  },
  {
   "cell_type": "code",
   "execution_count": 64,
   "metadata": {},
   "outputs": [
    {
     "data": {
      "text/html": [
       "<div>\n",
       "<style scoped>\n",
       "    .dataframe tbody tr th:only-of-type {\n",
       "        vertical-align: middle;\n",
       "    }\n",
       "\n",
       "    .dataframe tbody tr th {\n",
       "        vertical-align: top;\n",
       "    }\n",
       "\n",
       "    .dataframe thead th {\n",
       "        text-align: right;\n",
       "    }\n",
       "</style>\n",
       "<table border=\"1\" class=\"dataframe\">\n",
       "  <thead>\n",
       "    <tr style=\"text-align: right;\">\n",
       "      <th></th>\n",
       "      <th>height</th>\n",
       "      <th>weight</th>\n",
       "      <th>foot</th>\n",
       "    </tr>\n",
       "    <tr>\n",
       "      <th>sex</th>\n",
       "      <th></th>\n",
       "      <th></th>\n",
       "      <th></th>\n",
       "    </tr>\n",
       "  </thead>\n",
       "  <tbody>\n",
       "    <tr>\n",
       "      <th>female</th>\n",
       "      <td>0.311809</td>\n",
       "      <td>23.629078</td>\n",
       "      <td>1.290994</td>\n",
       "    </tr>\n",
       "    <tr>\n",
       "      <th>male</th>\n",
       "      <td>0.187172</td>\n",
       "      <td>11.086779</td>\n",
       "      <td>0.957427</td>\n",
       "    </tr>\n",
       "  </tbody>\n",
       "</table>\n",
       "</div>"
      ],
      "text/plain": [
       "          height     weight      foot\n",
       "sex                                  \n",
       "female  0.311809  23.629078  1.290994\n",
       "male    0.187172  11.086779  0.957427"
      ]
     },
     "execution_count": 64,
     "metadata": {},
     "output_type": "execute_result"
    }
   ],
   "source": [
    "pdf.groupby('sex').std()"
   ]
  },
  {
   "cell_type": "code",
   "execution_count": 65,
   "metadata": {},
   "outputs": [],
   "source": [
    "#python 함수로\n",
    "def normpdf(x, mu=0, std=1):\n",
    "    n = float(x-mu) / abs(std)\n",
    "    g = np.exp(-n*n/2) / (abs(std) * np.sqrt(2*np.pi))\n",
    "    return g"
   ]
  },
  {
   "cell_type": "code",
   "execution_count": 66,
   "metadata": {},
   "outputs": [
    {
     "data": {
      "text/plain": [
       "'Pr(Height|Male): 1.5789, mean_h_m: 5.8550, std_h_m: 0.1872'"
      ]
     },
     "execution_count": 66,
     "metadata": {},
     "output_type": "execute_result"
    }
   ],
   "source": [
    "mean_h_m = _hwf['height'][_hwf['sex']=='male'].mean()\n",
    "std_h_m = _hwf['height'][_hwf['sex']=='male'].std(ddof=1)\n",
    "\n",
    "pr_h_m=normpdf(6, mean_h_m, std_h_m)\n",
    "f\"Pr(Height|Male): {pr_h_m:.4f}, mean_h_m: {mean_h_m:.4f}, std_h_m: {std_h_m:.4f}\""
   ]
  },
  {
   "cell_type": "markdown",
   "metadata": {},
   "source": [
    "### 사후 확률\n",
    "\n",
    "$\n",
    "posterior(M)=\\frac{P(M)\\ p(height|M)\\ p(weight|M)\\ p(foot size|M)}{evidence}\\\\\n",
    "$"
   ]
  },
  {
   "cell_type": "markdown",
   "metadata": {},
   "source": [
    "#### sklearn 이용"
   ]
  },
  {
   "cell_type": "code",
   "execution_count": 67,
   "metadata": {},
   "outputs": [],
   "source": [
    "X=_hwf[:][['height', 'weight', 'foot']]\n",
    "y=_hwf[:]['sex']"
   ]
  },
  {
   "cell_type": "code",
   "execution_count": 69,
   "metadata": {},
   "outputs": [
    {
     "name": "stdout",
     "output_type": "stream",
     "text": [
      "[[6.0, 180, 12], [5.92, 190, 11], [5.58, 170, 12], [5.92, 165, 10], [5.0, 100, 6], [5.5, 150, 8], [5.42, 130, 7], [5.75, 150, 9]]\n"
     ]
    }
   ],
   "source": [
    "#list 튜플 바로 넘겨주면 오류, 2차원으로 바꿔줘야함.\n",
    "\n",
    "X = [list(x) for x in X]\n",
    "print(X)"
   ]
  },
  {
   "cell_type": "code",
   "execution_count": 70,
   "metadata": {},
   "outputs": [],
   "source": [
    "from sklearn.naive_bayes import GaussianNB\n",
    "\n",
    "gnb = GaussianNB()\n",
    "gnb.fit(X, y)\n",
    "Y_gnb_score = gnb.predict_proba(X)"
   ]
  },
  {
   "cell_type": "code",
   "execution_count": 71,
   "metadata": {},
   "outputs": [
    {
     "data": {
      "text/plain": [
       "array([[1.01445408e-06, 9.99998986e-01],\n",
       "       [1.68038573e-05, 9.99983196e-01],\n",
       "       [7.74236193e-05, 9.99922576e-01],\n",
       "       [5.73512178e-03, 9.94264878e-01],\n",
       "       [1.00000000e+00, 4.96400751e-27],\n",
       "       [9.99992023e-01, 7.97745444e-06],\n",
       "       [1.00000000e+00, 2.62669718e-12],\n",
       "       [9.82692514e-01, 1.73074857e-02]])"
      ]
     },
     "execution_count": 71,
     "metadata": {},
     "output_type": "execute_result"
    }
   ],
   "source": [
    "Y_gnb_score"
   ]
  },
  {
   "cell_type": "markdown",
   "metadata": {},
   "source": [
    ">0~3까지는 남자라서 우측이 크고, 4~7까지는 여자라서 왼쪽이 크다."
   ]
  },
  {
   "cell_type": "code",
   "execution_count": 72,
   "metadata": {},
   "outputs": [
    {
     "name": "stdout",
     "output_type": "stream",
     "text": [
      "[[  5.41750002 132.5          7.5       ]\n",
      " [  5.85500002 176.25        11.25      ]]\n",
      "[[7.29194841e-02 4.18750001e+02 1.25000073e+00]\n",
      " [2.62757494e-02 9.21875007e+01 6.87500734e-01]]\n"
     ]
    }
   ],
   "source": [
    "#평균\n",
    "print(gnb.theta_)\n",
    "#표준편차\n",
    "print(gnb.sigma_)"
   ]
  },
  {
   "cell_type": "code",
   "execution_count": 73,
   "metadata": {},
   "outputs": [
    {
     "data": {
      "text/plain": [
       "array(['female', 'male'], dtype='<U6')"
      ]
     },
     "execution_count": 73,
     "metadata": {},
     "output_type": "execute_result"
    }
   ],
   "source": [
    "gnb.predict([[6,130,8],[6,180,12]])"
   ]
  },
  {
   "cell_type": "code",
   "execution_count": null,
   "metadata": {},
   "outputs": [],
   "source": []
  }
 ],
 "metadata": {
  "kernelspec": {
   "display_name": "Python 3",
   "language": "python",
   "name": "python3"
  },
  "language_info": {
   "codemirror_mode": {
    "name": "ipython",
    "version": 3
   },
   "file_extension": ".py",
   "mimetype": "text/x-python",
   "name": "python",
   "nbconvert_exporter": "python",
   "pygments_lexer": "ipython3",
   "version": "3.7.6"
  }
 },
 "nbformat": 4,
 "nbformat_minor": 4
}
